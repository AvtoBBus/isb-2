{
 "cells": [
  {
   "attachments": {},
   "cell_type": "markdown",
   "metadata": {},
   "source": [
    "# Чтение из файла сгенерированных последовательностей"
   ]
  },
  {
   "cell_type": "code",
   "execution_count": 14,
   "metadata": {},
   "outputs": [],
   "source": [
    "list_of_result = [[],[],[]]\n",
    "list_bin_sequence = []\n",
    "with open(\"C:/Users/miste/OneDrive/Desktop/ВАЖНОЕ/учёба/для себя/isb-2/build\\Debug/random_bin_sequence.txt\", \"r\", encoding=\"utf-8\") as file:\n",
    "    for elem in file.readlines():\n",
    "        list_bin_sequence.append(elem[:-1])\n",
    "for index in range(len(list_bin_sequence)):\n",
    "    list_of_result[index].append(list_bin_sequence[index])"
   ]
  },
  {
   "cell_type": "code",
   "execution_count": 15,
   "metadata": {},
   "outputs": [],
   "source": [
    "list_freq_test = []\n",
    "with open(\"C:/Users/miste/OneDrive/Desktop/ВАЖНОЕ/учёба/для себя/isb-2/build\\Debug/res_frequency_test.txt\", \"r\", encoding=\"utf-8\") as file:\n",
    "    for elem in file.readlines():\n",
    "        list_freq_test.append(elem[:-1])\n",
    "for index in range(len(list_freq_test)):\n",
    "    list_of_result[index].append(list_freq_test[index])"
   ]
  },
  {
   "cell_type": "code",
   "execution_count": 16,
   "metadata": {},
   "outputs": [],
   "source": [
    "list_switch_test = []\n",
    "with open(\"C:/Users/miste/OneDrive/Desktop/ВАЖНОЕ/учёба/для себя/isb-2/build\\Debug/res_switch_test.txt\", \"r\", encoding=\"utf-8\") as file:\n",
    "    for elem in file.readlines():\n",
    "        list_switch_test.append(elem[:-1])\n",
    "for index in range(len(list_switch_test)):\n",
    "    list_of_result[index].append(list_switch_test[index])"
   ]
  },
  {
   "cell_type": "code",
   "execution_count": 17,
   "metadata": {},
   "outputs": [],
   "source": [
    "list_lseq_test = []\n",
    "with open(\"C:/Users/miste/OneDrive/Desktop/ВАЖНОЕ/учёба/для себя/isb-2/build\\Debug/res_largest_seq_test.txt\", \"r\", encoding=\"utf-8\") as file:\n",
    "    for elem in file.readlines():\n",
    "        list_lseq_test.append(elem[:-1])\n",
    "for index in range(len(list_lseq_test)):\n",
    "    list_of_result[index].append(list_lseq_test[index])"
   ]
  },
  {
   "cell_type": "code",
   "execution_count": 18,
   "metadata": {},
   "outputs": [
    {
     "name": "stdout",
     "output_type": "stream",
     "text": [
      "['11001000001111111010100100100110101011101101101110100111111001000000000101000110110000001001011000111110001010110001111000101110', '1.140316', '0.217120', '0.842410']\n",
      "\n",
      "['10111111010000000110110000010101100100010000111000100111100110001110111101010011001011010011011010011110111101111001001001010111', '0.595883', '0.064122', '0.684348']\n",
      "\n",
      "['00100110111101011101111000000101000111001100010110000100110001001000101011001001110111010001011110000001111100001010101001110011', '1.404117', '0.140247', '1.335915']\n",
      "\n"
     ]
    }
   ],
   "source": [
    "for elem in list_of_result:\n",
    "    print(f\"{elem}\\n\")"
   ]
  }
 ],
 "metadata": {
  "kernelspec": {
   "display_name": "Python 3",
   "language": "python",
   "name": "python3"
  },
  "language_info": {
   "codemirror_mode": {
    "name": "ipython",
    "version": 3
   },
   "file_extension": ".py",
   "mimetype": "text/x-python",
   "name": "python",
   "nbconvert_exporter": "python",
   "pygments_lexer": "ipython3",
   "version": "3.10.2"
  },
  "orig_nbformat": 4
 },
 "nbformat": 4,
 "nbformat_minor": 2
}
